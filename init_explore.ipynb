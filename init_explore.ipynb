{
 "cells": [
  {
   "cell_type": "markdown",
   "id": "2519efbb-7479-4811-a143-98d186c86042",
   "metadata": {},
   "source": [
    "Data from: https://www.kaggle.com/datasets/jaganadhg/house-hold-energy-data"
   ]
  },
  {
   "cell_type": "code",
   "execution_count": 2,
   "id": "65cb9b75-a6ae-4d64-8fc4-c6fb6d43de48",
   "metadata": {},
   "outputs": [],
   "source": [
    "import pandas as pd\n",
    "import numpy as np\n",
    "import matplotlib.pyplot as plt"
   ]
  },
  {
   "cell_type": "code",
   "execution_count": 8,
   "id": "bef7029d-b3df-487e-84c7-1c9b7fb1aac3",
   "metadata": {},
   "outputs": [],
   "source": [
    "df = pd.read_csv(\"D202.csv\")"
   ]
  },
  {
   "cell_type": "code",
   "execution_count": 9,
   "id": "eb4265ea-8025-4618-9151-299817c174e3",
   "metadata": {},
   "outputs": [],
   "source": [
    "df[\"DATE\"] = pd.to_datetime(df[\"DATE\"])"
   ]
  },
  {
   "cell_type": "code",
   "execution_count": null,
   "id": "fb73ee2c-f5f7-4efb-97c8-91c1fc0ee356",
   "metadata": {},
   "outputs": [],
   "source": []
  },
  {
   "cell_type": "code",
   "execution_count": 11,
   "id": "df4abb36-6693-472b-af5b-3cacad5fe875",
   "metadata": {},
   "outputs": [
    {
     "data": {
      "text/html": [
       "<div>\n",
       "<style scoped>\n",
       "    .dataframe tbody tr th:only-of-type {\n",
       "        vertical-align: middle;\n",
       "    }\n",
       "\n",
       "    .dataframe tbody tr th {\n",
       "        vertical-align: top;\n",
       "    }\n",
       "\n",
       "    .dataframe thead th {\n",
       "        text-align: right;\n",
       "    }\n",
       "</style>\n",
       "<table border=\"1\" class=\"dataframe\">\n",
       "  <thead>\n",
       "    <tr style=\"text-align: right;\">\n",
       "      <th></th>\n",
       "      <th>TYPE</th>\n",
       "      <th>DATE</th>\n",
       "      <th>START TIME</th>\n",
       "      <th>END TIME</th>\n",
       "      <th>USAGE</th>\n",
       "      <th>UNITS</th>\n",
       "      <th>COST</th>\n",
       "      <th>NOTES</th>\n",
       "    </tr>\n",
       "  </thead>\n",
       "  <tbody>\n",
       "    <tr>\n",
       "      <th>0</th>\n",
       "      <td>Electric usage</td>\n",
       "      <td>2016-10-22</td>\n",
       "      <td>0:00</td>\n",
       "      <td>0:14</td>\n",
       "      <td>0.01</td>\n",
       "      <td>kWh</td>\n",
       "      <td>$0.00</td>\n",
       "      <td>NaN</td>\n",
       "    </tr>\n",
       "    <tr>\n",
       "      <th>1</th>\n",
       "      <td>Electric usage</td>\n",
       "      <td>2016-10-22</td>\n",
       "      <td>0:15</td>\n",
       "      <td>0:29</td>\n",
       "      <td>0.01</td>\n",
       "      <td>kWh</td>\n",
       "      <td>$0.00</td>\n",
       "      <td>NaN</td>\n",
       "    </tr>\n",
       "    <tr>\n",
       "      <th>2</th>\n",
       "      <td>Electric usage</td>\n",
       "      <td>2016-10-22</td>\n",
       "      <td>0:30</td>\n",
       "      <td>0:44</td>\n",
       "      <td>0.01</td>\n",
       "      <td>kWh</td>\n",
       "      <td>$0.00</td>\n",
       "      <td>NaN</td>\n",
       "    </tr>\n",
       "    <tr>\n",
       "      <th>3</th>\n",
       "      <td>Electric usage</td>\n",
       "      <td>2016-10-22</td>\n",
       "      <td>0:45</td>\n",
       "      <td>0:59</td>\n",
       "      <td>0.01</td>\n",
       "      <td>kWh</td>\n",
       "      <td>$0.00</td>\n",
       "      <td>NaN</td>\n",
       "    </tr>\n",
       "    <tr>\n",
       "      <th>4</th>\n",
       "      <td>Electric usage</td>\n",
       "      <td>2016-10-22</td>\n",
       "      <td>1:00</td>\n",
       "      <td>1:14</td>\n",
       "      <td>0.01</td>\n",
       "      <td>kWh</td>\n",
       "      <td>$0.00</td>\n",
       "      <td>NaN</td>\n",
       "    </tr>\n",
       "  </tbody>\n",
       "</table>\n",
       "</div>"
      ],
      "text/plain": [
       "             TYPE       DATE START TIME END TIME  USAGE UNITS    COST  NOTES\n",
       "0  Electric usage 2016-10-22       0:00     0:14   0.01   kWh  $0.00     NaN\n",
       "1  Electric usage 2016-10-22       0:15     0:29   0.01   kWh  $0.00     NaN\n",
       "2  Electric usage 2016-10-22       0:30     0:44   0.01   kWh  $0.00     NaN\n",
       "3  Electric usage 2016-10-22       0:45     0:59   0.01   kWh  $0.00     NaN\n",
       "4  Electric usage 2016-10-22       1:00     1:14   0.01   kWh  $0.00     NaN"
      ]
     },
     "execution_count": 11,
     "metadata": {},
     "output_type": "execute_result"
    }
   ],
   "source": [
    "df.head()"
   ]
  },
  {
   "cell_type": "code",
   "execution_count": 5,
   "id": "59d0d48f-71f1-4db9-84c0-e5611c212c96",
   "metadata": {},
   "outputs": [
    {
     "data": {
      "text/plain": [
       "(70368, 8)"
      ]
     },
     "execution_count": 5,
     "metadata": {},
     "output_type": "execute_result"
    }
   ],
   "source": [
    "df.shape"
   ]
  },
  {
   "cell_type": "code",
   "execution_count": 10,
   "id": "0dfa441e-9430-4241-b672-7c600d5dae9f",
   "metadata": {},
   "outputs": [
    {
     "name": "stdout",
     "output_type": "stream",
     "text": [
      "<class 'pandas.core.frame.DataFrame'>\n",
      "RangeIndex: 70368 entries, 0 to 70367\n",
      "Data columns (total 8 columns):\n",
      " #   Column      Non-Null Count  Dtype         \n",
      "---  ------      --------------  -----         \n",
      " 0   TYPE        70368 non-null  object        \n",
      " 1   DATE        70368 non-null  datetime64[ns]\n",
      " 2   START TIME  70368 non-null  object        \n",
      " 3   END TIME    70368 non-null  object        \n",
      " 4   USAGE       70368 non-null  float64       \n",
      " 5   UNITS       70368 non-null  object        \n",
      " 6   COST        70368 non-null  object        \n",
      " 7   NOTES       0 non-null      float64       \n",
      "dtypes: datetime64[ns](1), float64(2), object(5)\n",
      "memory usage: 4.3+ MB\n"
     ]
    }
   ],
   "source": [
    "df.info()"
   ]
  },
  {
   "cell_type": "code",
   "execution_count": 12,
   "id": "02649a53-4d78-4d13-9ce5-e95be1d9b9e1",
   "metadata": {},
   "outputs": [
    {
     "data": {
      "text/plain": [
       "2017-11-05    100\n",
       "2016-11-06    100\n",
       "2018-02-16     96\n",
       "2018-02-18     96\n",
       "2018-02-19     96\n",
       "             ... \n",
       "2017-06-26     96\n",
       "2017-06-27     96\n",
       "2017-06-28     96\n",
       "2017-03-12     92\n",
       "2018-03-11     92\n",
       "Name: DATE, Length: 733, dtype: int64"
      ]
     },
     "execution_count": 12,
     "metadata": {},
     "output_type": "execute_result"
    }
   ],
   "source": [
    "df[\"DATE\"].value_counts()"
   ]
  },
  {
   "cell_type": "code",
   "execution_count": null,
   "id": "aafb4b35-ca0d-48e9-813c-d32b97ae247e",
   "metadata": {},
   "outputs": [],
   "source": []
  }
 ],
 "metadata": {
  "kernelspec": {
   "display_name": "Python 3 (ipykernel)",
   "language": "python",
   "name": "python3"
  },
  "language_info": {
   "codemirror_mode": {
    "name": "ipython",
    "version": 3
   },
   "file_extension": ".py",
   "mimetype": "text/x-python",
   "name": "python",
   "nbconvert_exporter": "python",
   "pygments_lexer": "ipython3",
   "version": "3.10.9"
  }
 },
 "nbformat": 4,
 "nbformat_minor": 5
}
